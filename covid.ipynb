{
 "cells": [
  {
   "cell_type": "code",
   "execution_count": 12,
   "metadata": {},
   "outputs": [],
   "source": [
    "from Bio import pairwise2\n",
    "import numpy as np\n",
    "import pandas as pd \n",
    "import matplotlib.pyplot as plt \n",
    "from Bio import SeqIO\n",
    "import random\n",
    "import os \n",
    "from tqdm import tqdm\n",
    "from Bio.pairwise2 import format_alignment\n",
    "\n",
    "from time import time\n",
    "# synfig == animation\n",
    "# castle-model-viwer== object 3d "
   ]
  },
  {
   "cell_type": "code",
   "execution_count": 13,
   "metadata": {},
   "outputs": [
    {
     "name": "stdout",
     "output_type": "stream",
     "text": [
      "2\n",
      "1\n",
      "0\n",
      "-1\n",
      "1\n",
      "[[  0  -2  -4  -6  -8 -10]\n",
      " [ -2   1  -1  -3  -5  -7]\n",
      " [ -4  -1   0   0  -2  -4]\n",
      " [ -6  -3  -2  -1   1  -1]\n",
      " [ -8  -5  -2  -3  -1   2]]\n",
      "[['' '←' '←' '←' '←' '←']\n",
      " ['↑' '↖' '←' '←' '←' '←']\n",
      " ['↑' '↑' '↖' '↖' '←' '←']\n",
      " ['↑' '↑' '↖' '↖' '↖' '←']\n",
      " ['↑' '↑' '↖' '↖' '↑' '↖']]\n",
      "A-GCT\n",
      "ATGCT\n",
      "2\n"
     ]
    }
   ],
   "source": [
    "def Needleman_alignment(seq1, seq2, match=1, mismatch=-1, gap=-2):\n",
    "    n, m = len(seq1), len(seq2)\n",
    "    \n",
    "    \n",
    "    values = np.zeros((n + 1, m + 1), dtype=int)\n",
    "    aligns = np.zeros((n + 1, m + 1), dtype=str)\n",
    "    \n",
    "    \n",
    "    values[:, 0] = np.array([gap*i for i in range(n+1)])\n",
    "    values[0, :] = np.array([gap*i for i in range(m+1)])\n",
    "    aligns[1:, 0] = \"↑\"\n",
    "    aligns[0, 1:] = \"←\"\n",
    "    \n",
    "    \n",
    "    for i in range(1, n + 1):\n",
    "        for j in range(1, m + 1):\n",
    "            match_score = values[i - 1, j - 1] + (match if seq1[i - 1] == seq2[j - 1] else mismatch)\n",
    "            vertucal_score = values[i - 1, j] + gap\n",
    "            horizontal_score = values[i, j - 1] + gap\n",
    "            \n",
    "            values[i, j] = max(match_score, vertucal_score, horizontal_score)\n",
    "            if values[i, j] == match_score:\n",
    "                aligns[i, j] = \"↖\"\n",
    "            elif values[i, j] == vertucal_score:\n",
    "                aligns[i, j] = \"↑\"\n",
    "            else:\n",
    "                aligns[i, j] = \"←\"\n",
    "    \n",
    "    \n",
    "    aligned_seq1, aligned_seq2 = \"\", \"\"\n",
    "    i, j = n, m\n",
    "    while i > 0 or j > 0:\n",
    "        print(values[i, j])\n",
    "        if aligns[i, j] == \"↖\":\n",
    "            aligned_seq1 = seq1[i - 1] + aligned_seq1\n",
    "            aligned_seq2 = seq2[j - 1] + aligned_seq2\n",
    "            i -= 1\n",
    "            j -= 1\n",
    "        elif aligns[i, j] == \"↑\":\n",
    "            aligned_seq1 = seq1[i - 1] + aligned_seq1\n",
    "            aligned_seq2 = \"-\" + aligned_seq2\n",
    "            i -= 1\n",
    "        else:  # \"←\"\n",
    "            aligned_seq1 = \"-\" + aligned_seq1\n",
    "            aligned_seq2 = seq2[j - 1] + aligned_seq2\n",
    "            j -= 1\n",
    "    print(values)\n",
    "    print(aligns)\n",
    "\n",
    "    return aligned_seq1, aligned_seq2, values[n, m]\n",
    "\n",
    "seq1=\"AGCT\"\n",
    "seq2=\"ATGCT\"\n",
    "\n",
    "aligned1, aligned2, score = Needleman_alignment(seq1, seq2,mismatch=-1,gap=-2)\n",
    "print(aligned1)\n",
    "print(aligned2)\n",
    "print(score)"
   ]
  },
  {
   "cell_type": "code",
   "execution_count": 14,
   "metadata": {},
   "outputs": [
    {
     "name": "stdout",
     "output_type": "stream",
     "text": [
      "GCT\n",
      "GCT\n",
      "3\n"
     ]
    }
   ],
   "source": [
    "def Smith_alignment(seq1, seq2, match=1, mismatch=-1, gap=-2):\n",
    "    n, m = len(seq1), len(seq2)\n",
    "    \n",
    "    \n",
    "    values = np.zeros((n + 1, m + 1), dtype=int)\n",
    "    \n",
    "    \n",
    "    max_score = 0\n",
    "    max_pos = (0, 0)\n",
    "    \n",
    "    \n",
    "    for i in range(1, n + 1):\n",
    "        for j in range(1, m + 1):\n",
    "            match_score = values[i - 1, j - 1] + (match if seq1[i - 1] == seq2[j - 1] else mismatch)\n",
    "            vertical_score = values[i - 1, j] + gap\n",
    "            horizontal_score = values[i, j - 1] + gap\n",
    "            values[i, j] = max(0, match_score, vertical_score, horizontal_score)  \n",
    "            \n",
    "            \n",
    "            if values[i, j] > max_score:\n",
    "                max_score = values[i, j]\n",
    "                max_pos = (i, j)\n",
    "    \n",
    "   \n",
    "    aligned_seq1, aligned_seq2 = \"\", \"\"\n",
    "    i, j = max_pos\n",
    "    while values[i, j] > 0:\n",
    "        if values[i, j] == values[i - 1, j - 1] + (match if seq1[i - 1] == seq2[j - 1] else mismatch):\n",
    "            aligned_seq1 = seq1[i - 1] + aligned_seq1\n",
    "            aligned_seq2 = seq2[j - 1] + aligned_seq2\n",
    "            i -= 1\n",
    "            j -= 1\n",
    "        elif values[i, j] == values[i - 1, j] + gap:\n",
    "            aligned_seq1 = seq1[i - 1] + aligned_seq1\n",
    "            aligned_seq2 = \"-\" + aligned_seq2\n",
    "            i -= 1\n",
    "        else:  # values[i, j] == values[i, j - 1] + gap\n",
    "            aligned_seq1 = \"-\" + aligned_seq1\n",
    "            aligned_seq2 = seq2[j - 1] + aligned_seq2\n",
    "            j -= 1\n",
    "    \n",
    "    return aligned_seq1, aligned_seq2, max_score\n",
    "\n",
    "\n",
    "\n",
    "seq1 = \"AAAAAAAAAAAAAAAAAAAAAAGCTAAAAAAaa\"\n",
    "seq2 = \"ATGCT\"\n",
    "aligned1, aligned2, score = Smith_alignment(seq1, seq2)\n",
    "print(aligned1)\n",
    "print(aligned2)\n",
    "print(score)"
   ]
  },
  {
   "cell_type": "code",
   "execution_count": 15,
   "metadata": {},
   "outputs": [],
   "source": [
    "class Sequence():\n",
    "    def __init__(self,id,seq,year,variant) -> None:\n",
    "        self.id = id\n",
    "        self.seq = seq \n",
    "        self.year = year \n",
    "        self.variant = variant\n",
    "    def __len__(self):\n",
    "        return len(self.seq)\n",
    "    \n",
    "data = []\n",
    "files = os.listdir(\"Data\")\n",
    "for file in files :\n",
    "    name = file.split(\".\")[0]\n",
    "    variant,year = name.split(\"_\")[0],name.split(\"_\")[1]\n",
    "    \n",
    "    for record in SeqIO.parse(f\"Data/{file}\",\"fasta\"):\n",
    "       \n",
    "        data.append(Sequence(record.id,record.seq,variant,year))"
   ]
  },
  {
   "cell_type": "code",
   "execution_count": 16,
   "metadata": {},
   "outputs": [
    {
     "name": "stdout",
     "output_type": "stream",
     "text": [
      "341\n"
     ]
    }
   ],
   "source": [
    "seq1,seq2 = data[0],data[3]\n",
    "aligned1, aligned2, score = Smith_alignment(seq1.seq, seq2.seq)\n",
    "print(score)"
   ]
  },
  {
   "cell_type": "code",
   "execution_count": 17,
   "metadata": {},
   "outputs": [],
   "source": [
    "seq_data = [d.seq for d in data if len(d) <= 1000]"
   ]
  },
  {
   "cell_type": "code",
   "execution_count": 18,
   "metadata": {},
   "outputs": [
    {
     "name": "stdout",
     "output_type": "stream",
     "text": [
      "892\n"
     ]
    }
   ],
   "source": [
    "alignments = pairwise2.align.localxx(seq_data[0],seq_data[1])\n",
    "print(len(seq_data))"
   ]
  },
  {
   "cell_type": "code",
   "execution_count": 19,
   "metadata": {},
   "outputs": [],
   "source": [
    "class Genetic():\n",
    "    def __init__(self,data,num_childrens=10,mutation_rate=0.05,mutation_seq=10):\n",
    "        self.data = data\n",
    "        self.gen_size = num_childrens\n",
    "        self.mutation_rate = mutation_rate\n",
    "        self.mutation_seq = mutation_seq\n",
    "    \n",
    "    def cross(self,i,j):\n",
    "        parents = {\"parent1\":self.data[i],\"parent2\":self.data[j]}\n",
    "\n",
    "        p_size1 = len(parents[\"parent1\"]) \n",
    "        p_size2 = len(parents[\"parent2\"])\n",
    "\n",
    "        p_max = max(p_size1,p_size2)\n",
    "        align = []\n",
    "        for c in range(p_max):\n",
    "            p = np.random.choice([True,False])\n",
    "            if c < p_size1 and p:\n",
    "                align.append(parents[\"parent1\"][c])\n",
    "            elif c < p_size2 and not p :\n",
    "                align.append(parents[\"parent2\"][c])\n",
    "            else :\n",
    "                if c < p_size1 :\n",
    "                    align.extend(parents[\"parent1\"][c:])\n",
    "                    break\n",
    "                else :\n",
    "                    align.extend(parents[\"parent2\"][c:])\n",
    "                    break\n",
    "        return \"\".join(align)\n",
    "\n",
    "\n",
    "\n",
    "\n",
    "            \n",
    "            \n",
    "\n",
    "        \n",
    "        \n",
    "    def mutate(self,protein):\n",
    "        if np.random.choice([True,False],p=[self.mutation_rate,1-self.mutation_rate]):\n",
    "            p_size = len(protein)\n",
    "            start = np.random.randint(0,p_size)\n",
    "            choices = np.random.choice(['A','G',\"T\",\"C\",\"-\"],size=self.mutation_seq)\n",
    "            mutatiion = \"\".join(choices)\n",
    "\n",
    "     \n",
    "            protein = protein[:start]+mutatiion+protein[start+self.mutation_seq:]\n",
    "        return protein\n",
    "\n",
    "\n",
    "\n",
    "    \n",
    "    def find_best(self):\n",
    "        n = len(self.data)\n",
    "        pbar = tqdm(total=n*n)\n",
    "        pbar.set_description(\"choose Parents\")\n",
    "        best_parents = (0,0)\n",
    "        best_score = 0\n",
    "        for i in range(n):\n",
    "      \n",
    "            for j in range(n):\n",
    "                if i!=j:\n",
    "                    alignments = pairwise2.align.localxx(self.data[i],self.data[j])\n",
    "            \n",
    "                    score = alignments[0].score\n",
    "                    if score > best_score:\n",
    "                        best_score=score\n",
    "                        best_parents = (i,j)\n",
    "                pbar.update(1)\n",
    "        pbar.close()\n",
    "        return best_parents,best_score  \n",
    "      \n",
    "    def fit(self,iterations):\n",
    "        t0 = time()\n",
    "        scores = []\n",
    "        for iter in range(iterations):\n",
    "            print(f\"Gen : {iter}\")\n",
    "            best_parents,best_score = self.find_best()\n",
    "            print(best_score)\n",
    "            scores.append(best_score)\n",
    "            new_gen = []\n",
    "            print(\"make new:\")\n",
    "            for gen in range(self.gen_size):\n",
    "                new_gen.append(self.mutate(self.cross(*best_parents)))\n",
    "            self.data = new_gen\n",
    "        t1 = time()\n",
    "        best_parents = self.data[best_parents[0]],self.data[best_parents[1]]\n",
    "        \n",
    "        return scores,best_parents,best_score,t0-t1\n",
    "\n",
    "\n",
    "sample = seq_data[0:10]\n",
    "model = Genetic(sample)\n",
    "\n",
    "\n",
    "\n",
    "    \n"
   ]
  },
  {
   "cell_type": "code",
   "execution_count": null,
   "metadata": {},
   "outputs": [
    {
     "name": "stdout",
     "output_type": "stream",
     "text": [
      "Hamming Distance Matrix:\n",
      "[[0. 2. 2. 3.]\n",
      " [2. 0. 2. 5.]\n",
      " [2. 2. 0. 3.]\n",
      " [3. 5. 3. 0.]]\n"
     ]
    }
   ],
   "source": [
    "import numpy as np\n",
    "\n",
    "def hamming_distance_variable_length(s1, s2):\n",
    "    \"\"\"\n",
    "    Calculate the Hamming distance between two sequences of different lengths.\n",
    "    Only overlapping regions are compared, and non-overlapping regions are penalized.\n",
    "    \"\"\"\n",
    "    # Determine the overlap length\n",
    "    min_len = min(len(s1), len(s2))\n",
    "    max_len = max(len(s1), len(s2))\n",
    "\n",
    "    # Count mismatches in the overlapping region\n",
    "    mismatch_count = sum(c1 != c2 for c1, c2 in zip(s1[:min_len], s2[:min_len]))\n",
    "\n",
    "    # Add penalty for non-overlapping regions\n",
    "    penalty = max_len - min_len\n",
    "\n",
    "    return mismatch_count + penalty\n",
    "\n",
    "def hamming_distance_matrix(sequences):\n",
    "   \n",
    "    n = len(sequences)\n",
    "    distance_matrix = np.zeros((n, n), dtype=float)\n",
    "\n",
    "    # Calculate pairwise distances\n",
    "    for i in range(n):\n",
    "        for j in range(i, n):\n",
    "            distance = hamming_distance_variable_length(sequences[i], sequences[j])\n",
    "            distance_matrix[i][j] = distance\n",
    "            distance_matrix[j][i] = distance  # Symmetric matrix\n",
    "\n",
    "    return distance_matrix\n",
    "\n",
    "# Example usage\n",
    "sequences = [\n",
    "    \"ACTG\",\n",
    "    \"ACCGG\",\n",
    "    \"ATCG\",\n",
    "    \"TTT\"\n",
    "]\n",
    "\n",
    "# Calculate the Hamming distance matrix\n",
    "hamming_matrix = hamming_distance_matrix(sequences)\n",
    "print(\"Hamming Distance Matrix:\")\n",
    "print(hamming_matrix)\n"
   ]
  },
  {
   "cell_type": "code",
   "execution_count": 28,
   "metadata": {},
   "outputs": [
    {
     "name": "stdout",
     "output_type": "stream",
     "text": [
      "\n",
      "UPGMA Tree:\n",
      "                 ___________________________________________________________ D\n",
      "  ______________|\n",
      " |              |___________________________________________________________ C\n",
      "_|\n",
      " |                           _______________________________________________ E\n",
      " |__________________________|\n",
      "                            |           ____________________________________ B\n",
      "                            |__________|\n",
      "                                       |____________________________________ A\n",
      "\n",
      "\n",
      "Neighbor-Joining Tree:\n",
      "                                 ___________________________________________ D\n",
      "              __________________|\n",
      "  ___________|                  |___________________________ C\n",
      " |           |\n",
      " |           |___________ A\n",
      "_|\n",
      " |________________ B\n",
      " |\n",
      " |___________________________________ E\n",
      "\n"
     ]
    },
    {
     "data": {
      "text/plain": [
       "<Figure size 640x480 with 0 Axes>"
      ]
     },
     "metadata": {},
     "output_type": "display_data"
    }
   ],
   "source": [
    "from Bio.Phylo.TreeConstruction import DistanceTreeConstructor, DistanceMatrix\n",
    "from Bio import Phylo\n",
    "import matplotlib.pyplot as plt\n",
    "\n",
    "# Example condensed distance matrix\n",
    "names = [\"A\", \"B\", \"C\", \"D\", \"E\"]\n",
    "matrix = [\n",
    "    [0],\n",
    "    [17, 0],\n",
    "    [21, 30, 0],\n",
    "    [31, 34, 28, 0],\n",
    "    [23, 21, 39, 43, 0]\n",
    "]\n",
    "\n",
    "# Create a DistanceMatrix\n",
    "dm = DistanceMatrix(names, matrix)\n",
    "\n",
    "# Initialize a tree constructor\n",
    "constructor = DistanceTreeConstructor()\n",
    "\n",
    "# UPGMA Tree\n",
    "upgma_tree = constructor.upgma(dm)\n",
    "print(\"\\nUPGMA Tree:\")\n",
    "Phylo.draw_ascii(upgma_tree)\n",
    "\n",
    "# Neighbor-Joining Tree\n",
    "nj_tree = constructor.nj(dm)\n",
    "print(\"\\nNeighbor-Joining Tree:\")\n",
    "Phylo.draw_ascii(nj_tree)\n",
    "\n",
    "\n",
    "\n",
    "# Draw UPGMA tree\n",
    "# plt.sca(axes[0])\n",
    "# Phylo.draw(upgma_tree, do_show=False)\n",
    "# plt.title(\"UPGMA Tree\")\n",
    "\n",
    "# # Draw NJ tree\n",
    "# plt.sca(axes[1])\n",
    "# Phylo.draw(nj_tree, do_show=False)\n",
    "# plt.title(\"Neighbor-Joining Tree\")\n",
    "\n",
    "plt.tight_layout()\n",
    "plt.show()\n"
   ]
  },
  {
   "cell_type": "code",
   "execution_count": 24,
   "metadata": {},
   "outputs": [
    {
     "ename": "IndexError",
     "evalue": "index 4 is out of bounds for axis 0 with size 4",
     "output_type": "error",
     "traceback": [
      "\u001b[1;31m---------------------------------------------------------------------------\u001b[0m",
      "\u001b[1;31mIndexError\u001b[0m                                Traceback (most recent call last)",
      "Cell \u001b[1;32mIn[24], line 69\u001b[0m\n\u001b[0;32m     59\u001b[0m distance_matrix \u001b[38;5;241m=\u001b[39m [\n\u001b[0;32m     60\u001b[0m     [\u001b[38;5;241m0\u001b[39m, \u001b[38;5;241m17\u001b[39m, \u001b[38;5;241m21\u001b[39m, \u001b[38;5;241m31\u001b[39m, \u001b[38;5;241m23\u001b[39m],\n\u001b[0;32m     61\u001b[0m     [\u001b[38;5;241m17\u001b[39m, \u001b[38;5;241m0\u001b[39m, \u001b[38;5;241m30\u001b[39m, \u001b[38;5;241m34\u001b[39m, \u001b[38;5;241m21\u001b[39m],\n\u001b[1;32m   (...)\u001b[0m\n\u001b[0;32m     64\u001b[0m     [\u001b[38;5;241m23\u001b[39m, \u001b[38;5;241m21\u001b[39m, \u001b[38;5;241m39\u001b[39m, \u001b[38;5;241m43\u001b[39m, \u001b[38;5;241m0\u001b[39m]\n\u001b[0;32m     65\u001b[0m ]\n\u001b[0;32m     67\u001b[0m labels \u001b[38;5;241m=\u001b[39m [\u001b[38;5;124m'\u001b[39m\u001b[38;5;124mA\u001b[39m\u001b[38;5;124m'\u001b[39m, \u001b[38;5;124m'\u001b[39m\u001b[38;5;124mB\u001b[39m\u001b[38;5;124m'\u001b[39m, \u001b[38;5;124m'\u001b[39m\u001b[38;5;124mC\u001b[39m\u001b[38;5;124m'\u001b[39m, \u001b[38;5;124m'\u001b[39m\u001b[38;5;124mD\u001b[39m\u001b[38;5;124m'\u001b[39m, \u001b[38;5;124m'\u001b[39m\u001b[38;5;124mE\u001b[39m\u001b[38;5;124m'\u001b[39m]\n\u001b[1;32m---> 69\u001b[0m result \u001b[38;5;241m=\u001b[39m \u001b[43mupgma\u001b[49m\u001b[43m(\u001b[49m\u001b[43mdistance_matrix\u001b[49m\u001b[43m,\u001b[49m\u001b[43m \u001b[49m\u001b[43mlabels\u001b[49m\u001b[43m)\u001b[49m\n\u001b[0;32m     71\u001b[0m \u001b[38;5;66;03m# Print the resulting tree\u001b[39;00m\n\u001b[0;32m     72\u001b[0m \u001b[38;5;28;01mfor\u001b[39;00m node, (cluster, height) \u001b[38;5;129;01min\u001b[39;00m result\u001b[38;5;241m.\u001b[39mitems():\n",
      "Cell \u001b[1;32mIn[24], line 25\u001b[0m, in \u001b[0;36mupgma\u001b[1;34m(distance_matrix, labels)\u001b[0m\n\u001b[0;32m     23\u001b[0m \u001b[38;5;28;01mfor\u001b[39;00m i \u001b[38;5;129;01min\u001b[39;00m \u001b[38;5;28mrange\u001b[39m(n):\n\u001b[0;32m     24\u001b[0m     \u001b[38;5;28;01mfor\u001b[39;00m j \u001b[38;5;129;01min\u001b[39;00m \u001b[38;5;28mrange\u001b[39m(i \u001b[38;5;241m+\u001b[39m \u001b[38;5;241m1\u001b[39m, n):\n\u001b[1;32m---> 25\u001b[0m         \u001b[38;5;28;01mif\u001b[39;00m \u001b[43mdistance_matrix\u001b[49m\u001b[43m[\u001b[49m\u001b[43mi\u001b[49m\u001b[43m]\u001b[49m\u001b[43m[\u001b[49m\u001b[43mj\u001b[49m\u001b[43m]\u001b[49m \u001b[38;5;241m<\u001b[39m min_dist:\n\u001b[0;32m     26\u001b[0m             min_dist \u001b[38;5;241m=\u001b[39m distance_matrix[i][j]\n\u001b[0;32m     27\u001b[0m             pair \u001b[38;5;241m=\u001b[39m (i, j)\n",
      "\u001b[1;31mIndexError\u001b[0m: index 4 is out of bounds for axis 0 with size 4"
     ]
    }
   ],
   "source": [
    "import numpy as np\n",
    "\n",
    "def upgma(distance_matrix, labels):\n",
    "    \"\"\"\n",
    "    Perform UPGMA algorithm.\n",
    "    \n",
    "    Args:\n",
    "        distance_matrix (list[list[float]]): A square distance matrix.\n",
    "        labels (list[str]): List of initial cluster labels.\n",
    "        \n",
    "    Returns:\n",
    "        dict: A hierarchical clustering tree structure.\n",
    "    \"\"\"\n",
    "    n = len(distance_matrix)\n",
    "    clusters = {i: [labels[i]] for i in range(n)}\n",
    "    tree = {i: (labels[i], 0) for i in range(n)}  # Store nodes and their heights\n",
    "    current_index = n\n",
    "\n",
    "    while len(clusters) > 1:\n",
    "        # Find the pair with the smallest distance\n",
    "        min_dist = float('inf')\n",
    "        pair = (-1, -1)\n",
    "        for i in range(n):\n",
    "            for j in range(i + 1, n):\n",
    "                if distance_matrix[i][j] < min_dist:\n",
    "                    min_dist = distance_matrix[i][j]\n",
    "                    pair = (i, j)\n",
    "\n",
    "        i, j = pair\n",
    "\n",
    "        # Merge clusters\n",
    "        new_cluster = clusters[i] + clusters[j]\n",
    "        clusters[current_index] = new_cluster\n",
    "        height = min_dist / 2\n",
    "        tree[current_index] = (new_cluster, height)\n",
    "\n",
    "        # Update the distance matrix\n",
    "        new_distances = []\n",
    "        for k in range(n):\n",
    "            if k != i and k != j:\n",
    "                d_new = (distance_matrix[i][k] + distance_matrix[j][k]) / 2\n",
    "                new_distances.append(d_new)\n",
    "\n",
    "        distance_matrix = np.delete(distance_matrix, [i, j], axis=0)\n",
    "        distance_matrix = np.delete(distance_matrix, [i, j], axis=1)\n",
    "        distance_matrix = np.vstack((distance_matrix, new_distances))\n",
    "        new_distances.append(0)  # Distance to itself is 0\n",
    "        distance_matrix = np.column_stack((distance_matrix, new_distances))\n",
    "\n",
    "        # Remove old clusters\n",
    "        del clusters[i]\n",
    "        del clusters[j]\n",
    "\n",
    "        current_index += 1\n",
    "\n",
    "    return tree\n",
    "\n",
    "# Example usage:\n",
    "distance_matrix = [\n",
    "    [0, 17, 21, 31, 23],\n",
    "    [17, 0, 30, 34, 21],\n",
    "    [21, 30, 0, 28, 39],\n",
    "    [31, 34, 28, 0, 43],\n",
    "    [23, 21, 39, 43, 0]\n",
    "]\n",
    "\n",
    "labels = ['A', 'B', 'C', 'D', 'E']\n",
    "\n",
    "result = upgma(distance_matrix, labels)\n",
    "\n",
    "# Print the resulting tree\n",
    "for node, (cluster, height) in result.items():\n",
    "    print(f\"Node {node}: Cluster {cluster}, Height {height}\")\n"
   ]
  },
  {
   "cell_type": "code",
   "execution_count": null,
   "metadata": {},
   "outputs": [],
   "source": [
    "data = {\"method\",\"ram\",\"cpu\",\"time\",\"score\",\"num_seq\"}"
   ]
  },
  {
   "cell_type": "code",
   "execution_count": null,
   "metadata": {},
   "outputs": [
    {
     "name": "stdout",
     "output_type": "stream",
     "text": [
      "Gen : 0\n"
     ]
    },
    {
     "name": "stderr",
     "output_type": "stream",
     "text": [
      "choose Parents: 100%|██████████| 100/100 [00:23<00:00,  4.25it/s]\n"
     ]
    },
    {
     "name": "stdout",
     "output_type": "stream",
     "text": [
      "835.0\n",
      "make new:\n",
      "Gen : 1\n"
     ]
    },
    {
     "name": "stderr",
     "output_type": "stream",
     "text": [
      "choose Parents: 100%|██████████| 100/100 [00:24<00:00,  4.16it/s]\n"
     ]
    },
    {
     "name": "stdout",
     "output_type": "stream",
     "text": [
      "628.0\n",
      "make new:\n",
      "Gen : 2\n"
     ]
    },
    {
     "name": "stderr",
     "output_type": "stream",
     "text": [
      "choose Parents: 100%|██████████| 100/100 [00:24<00:00,  4.14it/s]\n"
     ]
    },
    {
     "name": "stdout",
     "output_type": "stream",
     "text": [
      "719.0\n",
      "make new:\n",
      "Gen : 3\n"
     ]
    },
    {
     "name": "stderr",
     "output_type": "stream",
     "text": [
      "choose Parents: 100%|██████████| 100/100 [00:25<00:00,  3.89it/s]\n"
     ]
    },
    {
     "name": "stdout",
     "output_type": "stream",
     "text": [
      "781.0\n",
      "make new:\n",
      "Gen : 4\n"
     ]
    },
    {
     "name": "stderr",
     "output_type": "stream",
     "text": [
      "choose Parents: 100%|██████████| 100/100 [00:28<00:00,  3.47it/s]\n"
     ]
    },
    {
     "name": "stdout",
     "output_type": "stream",
     "text": [
      "817.0\n",
      "make new:\n",
      "Gen : 5\n"
     ]
    },
    {
     "name": "stderr",
     "output_type": "stream",
     "text": [
      "choose Parents: 100%|██████████| 100/100 [00:39<00:00,  2.56it/s]\n"
     ]
    },
    {
     "name": "stdout",
     "output_type": "stream",
     "text": [
      "834.0\n",
      "make new:\n",
      "Gen : 6\n"
     ]
    },
    {
     "name": "stderr",
     "output_type": "stream",
     "text": [
      "choose Parents: 100%|██████████| 100/100 [00:31<00:00,  3.22it/s]\n"
     ]
    },
    {
     "name": "stdout",
     "output_type": "stream",
     "text": [
      "842.0\n",
      "make new:\n",
      "Gen : 7\n"
     ]
    },
    {
     "name": "stderr",
     "output_type": "stream",
     "text": [
      "choose Parents: 100%|██████████| 100/100 [00:20<00:00,  4.85it/s]\n"
     ]
    },
    {
     "name": "stdout",
     "output_type": "stream",
     "text": [
      "842.0\n",
      "make new:\n",
      "Gen : 8\n"
     ]
    },
    {
     "name": "stderr",
     "output_type": "stream",
     "text": [
      "choose Parents: 100%|██████████| 100/100 [00:20<00:00,  4.85it/s]\n"
     ]
    },
    {
     "name": "stdout",
     "output_type": "stream",
     "text": [
      "842.0\n",
      "make new:\n",
      "Gen : 9\n"
     ]
    },
    {
     "name": "stderr",
     "output_type": "stream",
     "text": [
      "choose Parents: 100%|██████████| 100/100 [00:21<00:00,  4.64it/s]\n"
     ]
    },
    {
     "name": "stdout",
     "output_type": "stream",
     "text": [
      "842.0\n",
      "make new:\n",
      "Gen : 10\n"
     ]
    },
    {
     "name": "stderr",
     "output_type": "stream",
     "text": [
      "choose Parents: 100%|██████████| 100/100 [00:19<00:00,  5.24it/s]\n"
     ]
    },
    {
     "name": "stdout",
     "output_type": "stream",
     "text": [
      "842.0\n",
      "make new:\n",
      "Gen : 11\n"
     ]
    },
    {
     "name": "stderr",
     "output_type": "stream",
     "text": [
      "choose Parents: 100%|██████████| 100/100 [00:19<00:00,  5.16it/s]\n"
     ]
    },
    {
     "name": "stdout",
     "output_type": "stream",
     "text": [
      "842.0\n",
      "make new:\n",
      "Gen : 12\n"
     ]
    },
    {
     "name": "stderr",
     "output_type": "stream",
     "text": [
      "choose Parents: 100%|██████████| 100/100 [00:27<00:00,  3.58it/s]\n"
     ]
    },
    {
     "name": "stdout",
     "output_type": "stream",
     "text": [
      "842.0\n",
      "make new:\n",
      "Gen : 13\n"
     ]
    },
    {
     "name": "stderr",
     "output_type": "stream",
     "text": [
      "choose Parents: 100%|██████████| 100/100 [00:27<00:00,  3.70it/s]\n"
     ]
    },
    {
     "name": "stdout",
     "output_type": "stream",
     "text": [
      "842.0\n",
      "make new:\n",
      "Gen : 14\n"
     ]
    },
    {
     "name": "stderr",
     "output_type": "stream",
     "text": [
      "choose Parents: 100%|██████████| 100/100 [00:19<00:00,  5.10it/s]\n"
     ]
    },
    {
     "name": "stdout",
     "output_type": "stream",
     "text": [
      "842.0\n",
      "make new:\n",
      "Gen : 15\n"
     ]
    },
    {
     "name": "stderr",
     "output_type": "stream",
     "text": [
      "choose Parents: 100%|██████████| 100/100 [00:36<00:00,  2.73it/s]\n"
     ]
    },
    {
     "name": "stdout",
     "output_type": "stream",
     "text": [
      "842.0\n",
      "make new:\n",
      "Gen : 16\n"
     ]
    },
    {
     "name": "stderr",
     "output_type": "stream",
     "text": [
      "choose Parents: 100%|██████████| 100/100 [00:32<00:00,  3.06it/s]\n"
     ]
    },
    {
     "name": "stdout",
     "output_type": "stream",
     "text": [
      "842.0\n",
      "make new:\n",
      "Gen : 17\n"
     ]
    },
    {
     "name": "stderr",
     "output_type": "stream",
     "text": [
      "choose Parents: 100%|██████████| 100/100 [00:24<00:00,  4.12it/s]\n"
     ]
    },
    {
     "name": "stdout",
     "output_type": "stream",
     "text": [
      "842.0\n",
      "make new:\n",
      "Gen : 18\n"
     ]
    },
    {
     "name": "stderr",
     "output_type": "stream",
     "text": [
      "choose Parents: 100%|██████████| 100/100 [00:29<00:00,  3.39it/s]\n"
     ]
    },
    {
     "name": "stdout",
     "output_type": "stream",
     "text": [
      "842.0\n",
      "make new:\n",
      "Gen : 19\n"
     ]
    },
    {
     "name": "stderr",
     "output_type": "stream",
     "text": [
      "choose Parents: 100%|██████████| 100/100 [00:39<00:00,  2.52it/s]"
     ]
    },
    {
     "name": "stdout",
     "output_type": "stream",
     "text": [
      "842.0\n",
      "make new:\n"
     ]
    },
    {
     "name": "stderr",
     "output_type": "stream",
     "text": [
      "\n"
     ]
    },
    {
     "data": {
      "text/plain": [
       "([835.0,\n",
       "  628.0,\n",
       "  719.0,\n",
       "  781.0,\n",
       "  817.0,\n",
       "  834.0,\n",
       "  842.0,\n",
       "  842.0,\n",
       "  842.0,\n",
       "  842.0,\n",
       "  842.0,\n",
       "  842.0,\n",
       "  842.0,\n",
       "  842.0,\n",
       "  842.0,\n",
       "  842.0,\n",
       "  842.0,\n",
       "  842.0,\n",
       "  842.0,\n",
       "  842.0],\n",
       " (0, 1),\n",
       " 842.0)"
      ]
     },
     "execution_count": 44,
     "metadata": {},
     "output_type": "execute_result"
    }
   ],
   "source": [
    "model.fit(20)"
   ]
  },
  {
   "cell_type": "code",
   "execution_count": null,
   "metadata": {},
   "outputs": [
    {
     "data": {
      "text/plain": [
       "'AAAATCDCDD'"
      ]
     },
     "execution_count": 40,
     "metadata": {},
     "output_type": "execute_result"
    }
   ],
   "source": [
    "choices = np.random.choice(['A','G',\"T\",\"C\",\"-\"],size=5)\n",
    "mutatiion = \"\".join(choices)\n",
    "protein = \"ABBBBBDCDD\"\n",
    "protein = protein[:1]+mutatiion+protein[1+5:]\n",
    "protein"
   ]
  },
  {
   "cell_type": "code",
   "execution_count": null,
   "metadata": {},
   "outputs": [
    {
     "name": "stdout",
     "output_type": "stream",
     "text": [
      "mutation\n"
     ]
    }
   ],
   "source": [
    "import random \n",
    "import scipy.stats as st \n",
    "import numpy as np\n",
    "\n",
    "event = [\"mutation\",\"no mutation\"]\n",
    "\n",
    "ev = np.random.choice(event,p=[0.1,0.9])\n",
    "\n",
    "print(ev)"
   ]
  }
 ],
 "metadata": {
  "kernelspec": {
   "display_name": "Python 3",
   "language": "python",
   "name": "python3"
  },
  "language_info": {
   "codemirror_mode": {
    "name": "ipython",
    "version": 3
   },
   "file_extension": ".py",
   "mimetype": "text/x-python",
   "name": "python",
   "nbconvert_exporter": "python",
   "pygments_lexer": "ipython3",
   "version": "3.11.4"
  }
 },
 "nbformat": 4,
 "nbformat_minor": 2
}
