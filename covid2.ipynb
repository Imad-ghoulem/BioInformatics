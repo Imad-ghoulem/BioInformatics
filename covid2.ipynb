{
 "cells": [
  {
   "cell_type": "code",
   "execution_count": 29,
   "metadata": {},
   "outputs": [],
   "source": [
    "import numpy as np\n",
    "import pandas as pd \n",
    "import matplotlib.pyplot as plt \n",
    "from Bio import SeqIO\n",
    "import random\n",
    "import os \n",
    "from tqdm import tqdm\n",
    "from Bio import pairwise2\n",
    "from Bio.pairwise2 import format_alignment\n",
    "from time import time\n",
    "import psutil\n",
    "\n"
   ]
  },
  {
   "cell_type": "code",
   "execution_count": 68,
   "metadata": {},
   "outputs": [
    {
     "name": "stdout",
     "output_type": "stream",
     "text": [
      "A-GCT\n",
      "ATGCT\n",
      "2\n"
     ]
    }
   ],
   "source": [
    "def Needleman_alignment(seq1, seq2, match=1, mismatch=-1, gap=-2):\n",
    "    n, m = len(seq1), len(seq2)\n",
    "    \n",
    "    \n",
    "    values = np.zeros((n + 1, m + 1), dtype=int)\n",
    "    aligns = np.zeros((n + 1, m + 1), dtype=str)\n",
    "    \n",
    "    \n",
    "    values[:, 0] = np.array([gap*i for i in range(n+1)])\n",
    "    values[0, :] = np.array([gap*i for i in range(m+1)])\n",
    "    aligns[1:, 0] = \"↑\"\n",
    "    aligns[0, 1:] = \"←\"\n",
    "    \n",
    "    \n",
    "    for i in range(1, n + 1):\n",
    "        for j in range(1, m + 1):\n",
    "            match_score = values[i - 1, j - 1] + (match if seq1[i - 1] == seq2[j - 1] else mismatch)\n",
    "            vertucal_score = values[i - 1, j] + gap\n",
    "            horizontal_score = values[i, j - 1] + gap\n",
    "            \n",
    "            values[i, j] = max(match_score, vertucal_score, horizontal_score)\n",
    "            if values[i, j] == match_score:\n",
    "                aligns[i, j] = \"↖\"\n",
    "            elif values[i, j] == vertucal_score:\n",
    "                aligns[i, j] = \"↑\"\n",
    "            else:\n",
    "                aligns[i, j] = \"←\"\n",
    "    \n",
    "    \n",
    "    aligned_seq1, aligned_seq2 = \"\", \"\"\n",
    "    i, j = n, m\n",
    "    while i > 0 or j > 0:\n",
    "      \n",
    "        if aligns[i, j] == \"↖\":\n",
    "            aligned_seq1 = seq1[i - 1] + aligned_seq1\n",
    "            aligned_seq2 = seq2[j - 1] + aligned_seq2\n",
    "            i -= 1\n",
    "            j -= 1\n",
    "        elif aligns[i, j] == \"↑\":\n",
    "            aligned_seq1 = seq1[i - 1] + aligned_seq1\n",
    "            aligned_seq2 = \"-\" + aligned_seq2\n",
    "            i -= 1\n",
    "        else:  # \"←\"\n",
    "            aligned_seq1 = \"-\" + aligned_seq1\n",
    "            aligned_seq2 = seq2[j - 1] + aligned_seq2\n",
    "            j -= 1\n",
    "\n",
    "\n",
    "    return aligned_seq1, aligned_seq2, values[n, m]\n",
    "\n",
    "seq1=\"AGCT\"\n",
    "seq2=\"ATGCT\"\n",
    "\n",
    "aligned1, aligned2, score = Needleman_alignment(seq1, seq2,mismatch=-1,gap=-2)\n",
    "print(aligned1)\n",
    "print(aligned2)\n",
    "print(score)"
   ]
  },
  {
   "cell_type": "code",
   "execution_count": 67,
   "metadata": {},
   "outputs": [
    {
     "name": "stdout",
     "output_type": "stream",
     "text": [
      "GCT\n",
      "GCT\n",
      "3\n"
     ]
    }
   ],
   "source": [
    "def Smith_alignment(seq1, seq2, match=1, mismatch=-1, gap=-2):\n",
    "    n, m = len(seq1), len(seq2)\n",
    "    \n",
    "    \n",
    "    values = np.zeros((n + 1, m + 1), dtype=int)\n",
    "    \n",
    "    \n",
    "    max_score = 0\n",
    "    max_pos = (0, 0)\n",
    "    \n",
    "    \n",
    "    for i in range(1, n + 1):\n",
    "        for j in range(1, m + 1):\n",
    "            match_score = values[i - 1, j - 1] + (match if seq1[i - 1] == seq2[j - 1] else mismatch)\n",
    "            vertical_score = values[i - 1, j] + gap\n",
    "            horizontal_score = values[i, j - 1] + gap\n",
    "            values[i, j] = max(0, match_score, vertical_score, horizontal_score)  \n",
    "            \n",
    "            \n",
    "            if values[i, j] > max_score:\n",
    "                max_score = values[i, j]\n",
    "                max_pos = (i, j)\n",
    "    \n",
    "   \n",
    "    aligned_seq1, aligned_seq2 = \"\", \"\"\n",
    "    i, j = max_pos\n",
    "    while values[i, j] > 0:\n",
    "        if values[i, j] == values[i - 1, j - 1] + (match if seq1[i - 1] == seq2[j - 1] else mismatch):\n",
    "            aligned_seq1 = seq1[i - 1] + aligned_seq1\n",
    "            aligned_seq2 = seq2[j - 1] + aligned_seq2\n",
    "            i -= 1\n",
    "            j -= 1\n",
    "        elif values[i, j] == values[i - 1, j] + gap:\n",
    "            aligned_seq1 = seq1[i - 1] + aligned_seq1\n",
    "            aligned_seq2 = \"-\" + aligned_seq2\n",
    "            i -= 1\n",
    "        else:  # values[i, j] == values[i, j - 1] + gap\n",
    "            aligned_seq1 = \"-\" + aligned_seq1\n",
    "            aligned_seq2 = seq2[j - 1] + aligned_seq2\n",
    "            j -= 1\n",
    "    \n",
    "    return aligned_seq1, aligned_seq2, max_score\n",
    "\n",
    "\n",
    "\n",
    "seq1 = \"AAAAAAAAAAAAAAAAAAAAAAGCTAAAAAAaa\"\n",
    "seq2 = \"ATGCT\"\n",
    "aligned1, aligned2, score = Smith_alignment(seq1, seq2)\n",
    "print(aligned1)\n",
    "print(aligned2)\n",
    "print(score)"
   ]
  },
  {
   "cell_type": "code",
   "execution_count": 59,
   "metadata": {},
   "outputs": [],
   "source": [
    "class Sequence():\n",
    "    def __init__(self,id,seq,year,variant) -> None:\n",
    "        self.id = id\n",
    "        self.seq = seq \n",
    "        self.year = year \n",
    "        self.variant = variant\n",
    "    def __len__(self):\n",
    "        return len(self.seq)\n",
    "    \n",
    "data = []\n",
    "files = os.listdir(\"Data\")\n",
    "for file in files :\n",
    "    name = file.split(\".\")[0]\n",
    "    variant,year = name.split(\"_\")[0],name.split(\"_\")[1]\n",
    "    \n",
    "    for record in SeqIO.parse(f\"Data/{file}\",\"fasta\"):\n",
    "       \n",
    "        data.append(Sequence(record.id,record.seq,year,variant))"
   ]
  },
  {
   "cell_type": "code",
   "execution_count": 60,
   "metadata": {},
   "outputs": [
    {
     "data": {
      "text/html": [
       "<div>\n",
       "<style scoped>\n",
       "    .dataframe tbody tr th:only-of-type {\n",
       "        vertical-align: middle;\n",
       "    }\n",
       "\n",
       "    .dataframe tbody tr th {\n",
       "        vertical-align: top;\n",
       "    }\n",
       "\n",
       "    .dataframe thead th {\n",
       "        text-align: right;\n",
       "    }\n",
       "</style>\n",
       "<table border=\"1\" class=\"dataframe\">\n",
       "  <thead>\n",
       "    <tr style=\"text-align: right;\">\n",
       "      <th></th>\n",
       "      <th>id</th>\n",
       "      <th>seq</th>\n",
       "      <th>variant</th>\n",
       "      <th>year</th>\n",
       "      <th>a</th>\n",
       "      <th>c</th>\n",
       "      <th>g</th>\n",
       "      <th>t</th>\n",
       "      <th>-</th>\n",
       "    </tr>\n",
       "  </thead>\n",
       "  <tbody>\n",
       "    <tr>\n",
       "      <th>0</th>\n",
       "      <td>OP723873.1</td>\n",
       "      <td>(A, G, A, G, T, C, C, A, A, C, C, A, A, C, A, ...</td>\n",
       "      <td>Alpha</td>\n",
       "      <td>2020</td>\n",
       "      <td>0.294469</td>\n",
       "      <td>0.173393</td>\n",
       "      <td>0.179372</td>\n",
       "      <td>0.352765</td>\n",
       "      <td>0.0</td>\n",
       "    </tr>\n",
       "    <tr>\n",
       "      <th>1</th>\n",
       "      <td>OL689430.1</td>\n",
       "      <td>(A, C, C, T, T, C, C, C, A, G, G, T, A, A, C, ...</td>\n",
       "      <td>Alpha</td>\n",
       "      <td>2020</td>\n",
       "      <td>0.298569</td>\n",
       "      <td>0.183652</td>\n",
       "      <td>0.196287</td>\n",
       "      <td>0.321492</td>\n",
       "      <td>0.0</td>\n",
       "    </tr>\n",
       "    <tr>\n",
       "      <th>2</th>\n",
       "      <td>OL675863.1</td>\n",
       "      <td>(G, T, T, T, A, T, A, C, C, T, T, C, C, C, A, ...</td>\n",
       "      <td>Alpha</td>\n",
       "      <td>2020</td>\n",
       "      <td>0.298718</td>\n",
       "      <td>0.183757</td>\n",
       "      <td>0.196311</td>\n",
       "      <td>0.321215</td>\n",
       "      <td>0.0</td>\n",
       "    </tr>\n",
       "    <tr>\n",
       "      <th>3</th>\n",
       "      <td>OM443070.1</td>\n",
       "      <td>(T, G, A, T, T, T, T, A, C, A, G, G, C, T, G, ...</td>\n",
       "      <td>Alpha</td>\n",
       "      <td>2020</td>\n",
       "      <td>0.275240</td>\n",
       "      <td>0.199519</td>\n",
       "      <td>0.193510</td>\n",
       "      <td>0.331731</td>\n",
       "      <td>0.0</td>\n",
       "    </tr>\n",
       "    <tr>\n",
       "      <th>4</th>\n",
       "      <td>OM443069.1</td>\n",
       "      <td>(G, G, C, T, G, C, G, T, T, A, T, A, G, C, T, ...</td>\n",
       "      <td>Alpha</td>\n",
       "      <td>2020</td>\n",
       "      <td>0.273608</td>\n",
       "      <td>0.199758</td>\n",
       "      <td>0.196126</td>\n",
       "      <td>0.330508</td>\n",
       "      <td>0.0</td>\n",
       "    </tr>\n",
       "  </tbody>\n",
       "</table>\n",
       "</div>"
      ],
      "text/plain": [
       "           id                                                seq variant  \\\n",
       "0  OP723873.1  (A, G, A, G, T, C, C, A, A, C, C, A, A, C, A, ...   Alpha   \n",
       "1  OL689430.1  (A, C, C, T, T, C, C, C, A, G, G, T, A, A, C, ...   Alpha   \n",
       "2  OL675863.1  (G, T, T, T, A, T, A, C, C, T, T, C, C, C, A, ...   Alpha   \n",
       "3  OM443070.1  (T, G, A, T, T, T, T, A, C, A, G, G, C, T, G, ...   Alpha   \n",
       "4  OM443069.1  (G, G, C, T, G, C, G, T, T, A, T, A, G, C, T, ...   Alpha   \n",
       "\n",
       "   year         a         c         g         t    -  \n",
       "0  2020  0.294469  0.173393  0.179372  0.352765  0.0  \n",
       "1  2020  0.298569  0.183652  0.196287  0.321492  0.0  \n",
       "2  2020  0.298718  0.183757  0.196311  0.321215  0.0  \n",
       "3  2020  0.275240  0.199519  0.193510  0.331731  0.0  \n",
       "4  2020  0.273608  0.199758  0.196126  0.330508  0.0  "
      ]
     },
     "execution_count": 60,
     "metadata": {},
     "output_type": "execute_result"
    }
   ],
   "source": [
    "df_data = pd.DataFrame({\"id\":[d.id for d in data],\"seq\":[d.seq for d in data],\"variant\":[d.variant for d in data],\"year\":[d.year for d in data]})\n",
    "nucleotide_counts = df_data['seq'].apply(lambda seq: pd.Series({\n",
    "    'a': seq.count('A')/len(seq),\n",
    "    'c': seq.count('C')/len(seq),\n",
    "    'g': seq.count('G')/len(seq),\n",
    "    't': seq.count('T')/len(seq),\n",
    "    '-': seq.count('-')/len(seq)\n",
    "}))\n",
    "\n",
    "# Concatenate nucleotide counts with the original DataFrame\n",
    "df_data = pd.concat([df_data, nucleotide_counts], axis=1)\n",
    "df_data.head()"
   ]
  },
  {
   "cell_type": "code",
   "execution_count": 64,
   "metadata": {},
   "outputs": [
    {
     "data": {
      "text/plain": [
       "<Axes: >"
      ]
     },
     "execution_count": 64,
     "metadata": {},
     "output_type": "execute_result"
    },
    {
     "data": {
      "image/png": "[encoded data removed]",
      "text/plain": [
       "<Figure size 640x480 with 1 Axes>"
      ]
     },
     "metadata": {},
     "output_type": "display_data"
    }
   ],
   "source": [
    "df_data[\"variant\"].hist()\n"
   ]
  },
  {
   "cell_type": "code",
   "execution_count": 63,
   "metadata": {},
   "outputs": [
    {
     "data": {
      "text/plain": [
       "<Axes: >"
      ]
     },
     "execution_count": 63,
     "metadata": {},
     "output_type": "execute_result"
    },
    {
     "data": {
      "image/png": "[encoded data removed]",
      "text/plain": [
       "<Figure size 640x480 with 1 Axes>"
      ]
     },
     "metadata": {},
     "output_type": "display_data"
    }
   ],
   "source": [
    "df_data[\"year\"].hist()"
   ]
  },
  {
   "cell_type": "code",
   "execution_count": 69,
   "metadata": {},
   "outputs": [
    {
     "name": "stdout",
     "output_type": "stream",
     "text": [
      "global score :-167\n",
      "local score :341\n"
     ]
    }
   ],
   "source": [
    "seq1,seq2 = data[0],data[3]\n",
    "aligned1, aligned2, score = Needleman_alignment(seq1.seq, seq2.seq)\n",
    "print(f\"global score :{score}\")\n",
    "seq1,seq2 = data[0],data[3]\n",
    "aligned1, aligned2, score = Smith_alignment(seq1.seq, seq2.seq)\n",
    "print(f\"local score :{score}\")"
   ]
  },
  {
   "cell_type": "code",
   "execution_count": 34,
   "metadata": {},
   "outputs": [],
   "source": [
    "seq_data = [d.seq for d in data if len(d) <= 1000]"
   ]
  },
  {
   "cell_type": "code",
   "execution_count": 35,
   "metadata": {},
   "outputs": [
    {
     "name": "stdout",
     "output_type": "stream",
     "text": [
      "892\n"
     ]
    }
   ],
   "source": [
    "alignments = pairwise2.align.localxx(seq_data[0],seq_data[1])\n",
    "print(len(seq_data))"
   ]
  },
  {
   "cell_type": "code",
   "execution_count": 36,
   "metadata": {},
   "outputs": [],
   "source": [
    "class Genetic():\n",
    "    def __init__(self,data,num_childrens=10,mutation_rate=0.05,mutation_seq=10,early_stop=2):\n",
    "        self.data = data\n",
    "        self.gen_size = num_childrens\n",
    "        self.mutation_rate = mutation_rate\n",
    "        self.mutation_seq = mutation_seq\n",
    "        self.early = early_stop\n",
    "        self.best_value = None\n",
    "    \n",
    "    def cross(self,i,j):\n",
    "        parents = {\"parent1\":self.data[i],\"parent2\":self.data[j]}\n",
    "\n",
    "        p_size1 = len(parents[\"parent1\"]) \n",
    "        p_size2 = len(parents[\"parent2\"])\n",
    "\n",
    "        p_max = max(p_size1,p_size2)\n",
    "        align = []\n",
    "        for c in range(p_max):\n",
    "            p = np.random.choice([True,False])\n",
    "            if c < p_size1 and p:\n",
    "                align.append(parents[\"parent1\"][c])\n",
    "            elif c < p_size2 and not p :\n",
    "                align.append(parents[\"parent2\"][c])\n",
    "            else :\n",
    "                if c < p_size1 :\n",
    "                    align.extend(parents[\"parent1\"][c:])\n",
    "                    break\n",
    "                else :\n",
    "                    align.extend(parents[\"parent2\"][c:])\n",
    "                    break\n",
    "        return \"\".join(align)\n",
    "\n",
    "\n",
    "\n",
    "\n",
    "            \n",
    "            \n",
    "\n",
    "        \n",
    "        \n",
    "    def mutate(self,protein):\n",
    "        if np.random.choice([True,False],p=[self.mutation_rate,1-self.mutation_rate]):\n",
    "            p_size = len(protein)\n",
    "            start = np.random.randint(0,p_size)\n",
    "            choices = np.random.choice(['A','G',\"T\",\"C\",\"-\"],size=self.mutation_seq)\n",
    "            mutatiion = \"\".join(choices)\n",
    "\n",
    "     \n",
    "            protein = protein[:start]+mutatiion+protein[start+self.mutation_seq:]\n",
    "        return protein\n",
    "\n",
    "\n",
    "\n",
    "    \n",
    "    def find_best(self):\n",
    "        n = len(self.data)\n",
    "        pbar = tqdm(total=n*n)\n",
    "        pbar.set_description(\"choose Parents\")\n",
    "        best_parents = (0,0)\n",
    "        best_score = 0\n",
    "        for i in range(n):\n",
    "      \n",
    "            for j in range(n):\n",
    "                if i!=j:\n",
    "                    alignments = pairwise2.align.localxx(self.data[i],self.data[j])\n",
    "            \n",
    "                    score = alignments[0].score\n",
    "                    if score > best_score:\n",
    "                        best_score=score\n",
    "                        best_parents = (i,j)\n",
    "                pbar.update(1)\n",
    "        pbar.close()\n",
    "        return best_parents,best_score  \n",
    "      \n",
    "    def fit(self,iterations):\n",
    "        scores = []\n",
    "        best_score = 0\n",
    "        t0 = time()\n",
    "        for iter in range(iterations):\n",
    "            print(f\"Gen : {iter}\")\n",
    "            best_parents,score = self.find_best()\n",
    "            print(score)\n",
    "            if score > best_score :\n",
    "                i=0\n",
    "                best_score=score\n",
    "            i+=1\n",
    "            if i == self.early :\n",
    "                print(\"early stoppage ...\")\n",
    "                break\n",
    "\n",
    "            \n",
    "            scores.append(score)\n",
    "            new_gen = []\n",
    "            \n",
    "            for gen in range(self.gen_size):\n",
    "                new_gen.append(self.mutate(self.cross(*best_parents)))\n",
    "            self.data = new_gen\n",
    "        t_1=time()\n",
    "        best_parents = self.data[best_parents[0]],self.data[best_parents[1]]\n",
    "        return scores,best_parents,best_score,t_1-t0\n",
    "\n",
    "random.shuffle(seq_data)\n",
    "\n",
    "sample = seq_data[:10]\n",
    "model = Genetic(sample)\n",
    "\n",
    "\n",
    "\n",
    "    \n"
   ]
  },
  {
   "cell_type": "code",
   "execution_count": null,
   "metadata": {},
   "outputs": [
    {
     "name": "stdout",
     "output_type": "stream",
     "text": [
      "Gen : 0\n"
     ]
    },
    {
     "name": "stderr",
     "output_type": "stream",
     "text": [
      "choose Parents: 100%|██████████| 100/100 [00:31<00:00,  3.21it/s]\n"
     ]
    },
    {
     "name": "stdout",
     "output_type": "stream",
     "text": [
      "631.0\n"
     ]
    }
   ],
   "source": [
    "process = psutil.Process(os.getpid())\n",
    "gen_before_cpu = process.cpu_percent(interval=None)\n",
    "gen_before_memory = process.memory_info().rss \n",
    "history,best_parents,best_score,genetic_time = model.fit(1)\n",
    "gen_after_cpu = process.cpu_percent(interval=None)\n",
    "gen_after_memory = process.memory_info().rss   "
   ]
  },
  {
   "cell_type": "code",
   "execution_count": 38,
   "metadata": {},
   "outputs": [
    {
     "name": "stdout",
     "output_type": "stream",
     "text": [
      "best score :631.0\n"
     ]
    }
   ],
   "source": [
    "print(f\"best score :{best_score}\")"
   ]
  },
  {
   "cell_type": "code",
   "execution_count": 39,
   "metadata": {},
   "outputs": [
    {
     "data": {
      "text/plain": [
       "[<matplotlib.lines.Line2D at 0x1f502325390>]"
      ]
     },
     "execution_count": 39,
     "metadata": {},
     "output_type": "execute_result"
    },
    {
     "data": {
      "image/png": "[encoded data removed]",
      "text/plain": [
       "<Figure size 640x480 with 1 Axes>"
      ]
     },
     "metadata": {},
     "output_type": "display_data"
    }
   ],
   "source": [
    "plt.plot(history[1:])"
   ]
  },
  {
   "cell_type": "code",
   "execution_count": 40,
   "metadata": {},
   "outputs": [],
   "source": [
    "\n",
    "        \n",
    "def neighbor_joining(distance_matrix, labels):\n",
    "    while len(labels) > 2:\n",
    "        n = len(labels)\n",
    "        \n",
    "        # Compute the Q-matrix\n",
    "        q_matrix = np.zeros((n, n))\n",
    "        for i in range(n):\n",
    "            for j in range(n):\n",
    "                if i != j:\n",
    "                    q_matrix[i][j] = (n - 2) * distance_matrix[i][j] - sum(distance_matrix[i]) - sum(distance_matrix[j])\n",
    "        \n",
    "        # Find the pair with the minimum Q value\n",
    "        i, j = np.unravel_index(np.argmin(q_matrix), q_matrix.shape)\n",
    "        \n",
    "        # Calculate the distances for the new node\n",
    "        delta_i = (distance_matrix[i][j] + (sum(distance_matrix[i]) - sum(distance_matrix[j])) / (n - 2)) / 2\n",
    "        delta_j = distance_matrix[i][j] - delta_i\n",
    "        \n",
    "        new_label = f\"({labels[i]},{labels[j]})\"\n",
    "        \n",
    "        # Update the distance matrix\n",
    "        new_distances = []\n",
    "        for k in range(n):\n",
    "            if k != i and k != j:\n",
    "                new_distance = (distance_matrix[i][k] + distance_matrix[j][k] - distance_matrix[i][j]) / 2\n",
    "                new_distances.append(new_distance)\n",
    "        \n",
    "        # Remove old rows and columns\n",
    "        distance_matrix = np.delete(distance_matrix, (i, j), axis=0)\n",
    "        distance_matrix = np.delete(distance_matrix, (i, j), axis=1)\n",
    "        labels = [label for idx, label in enumerate(labels) if idx != i and idx != j]\n",
    "        \n",
    "        # Add the new row and column for the merged node\n",
    "        distance_matrix = np.vstack([distance_matrix, new_distances])\n",
    "        new_distances.append(0)\n",
    "        distance_matrix = np.column_stack([distance_matrix, new_distances])\n",
    "        labels.append(new_label)\n",
    "    \n",
    "    # Final join\n",
    "    final_label = f\"({labels[0]},{labels[1]})\"\n",
    "    return final_label\n",
    "\n",
    "        \n",
    "def upgma(distance_matrix, labels):\n",
    "    while len(labels) > 1:\n",
    "        n = len(labels)\n",
    "\n",
    "        # Find the pair with the minimum distance\n",
    "        i, j = np.unravel_index(np.argmin(distance_matrix + np.eye(n) * np.inf), distance_matrix.shape)\n",
    "\n",
    "        # Calculate distances for the new node\n",
    "        new_distances = []\n",
    "        for k in range(n):\n",
    "            if k != i and k != j:\n",
    "                new_distance = (distance_matrix[i][k] + distance_matrix[j][k]) / 2\n",
    "                new_distances.append(new_distance)\n",
    "\n",
    "        # Update labels\n",
    "        new_label = f\"({labels[i]},{labels[j]})\"\n",
    "\n",
    "        # Remove old rows and columns\n",
    "        distance_matrix = np.delete(distance_matrix, (i, j), axis=0)\n",
    "        distance_matrix = np.delete(distance_matrix, (i, j), axis=1)\n",
    "\n",
    "        # Add new row and column\n",
    "        distance_matrix = np.vstack([distance_matrix, new_distances])\n",
    "        new_distances.append(0)\n",
    "        distance_matrix = np.column_stack([distance_matrix, new_distances])\n",
    "\n",
    "        labels = [label for idx, label in enumerate(labels) if idx != i and idx != j]\n",
    "        labels.append(new_label)\n",
    "\n",
    "    return labels[0]\n",
    "\n"
   ]
  },
  {
   "cell_type": "code",
   "execution_count": 41,
   "metadata": {},
   "outputs": [
    {
     "name": "stdout",
     "output_type": "stream",
     "text": [
      "10\n",
      "10\n",
      "((8,(3,4)),(((5,6),(1,(0,9))),(2,7)))\n",
      "\n",
      "Neighbor-Joining Tree:\n",
      "                                                    , 6\n",
      "       _____________________________________________|\n",
      "      |                                             | 5\n",
      "   ___|\n",
      "  |   |                                                                 , 9\n",
      "  |   |                                _________________________________|\n",
      "  |   |_______________________________|                                 | 0\n",
      " ,|                                   |\n",
      " ||                                   |________________________________ 1\n",
      " ||\n",
      " ||   ____________________________ 7\n",
      " ||__|\n",
      "_|   |_____________________________________________________________________ 2\n",
      " |\n",
      " |   ______________________________________________________________ 4\n",
      " |__|\n",
      " |  |_____________________________________________________________________ 3\n",
      " |\n",
      " |____________________________________________________________________ 8\n",
      "\n",
      "\n",
      "UPGMA Tree:\n",
      "  ____________________________________________________________________ 2\n",
      " |\n",
      "_|  __________________________________________________________________ 3\n",
      " | |\n",
      " |_|    ______________________________________________________________ 8\n",
      "   |   |\n",
      "   |___|   ___________________________________________________________ 4\n",
      "       |  |\n",
      "       |  |                   _____________________________________________ 7\n",
      "       |__|               ___|\n",
      "          |              |   |                                             , 6\n",
      "          |              |   |_____________________________________________|\n",
      "          |______________|                                                 | 5\n",
      "                         |\n",
      "                         |                 ________________________________ 1\n",
      "                         |________________|\n",
      "                                          |                               , 9\n",
      "                                          |_______________________________|\n",
      "                                                                          | 0\n",
      "\n"
     ]
    },
    {
     "name": "stderr",
     "output_type": "stream",
     "text": [
      "C:\\Users\\imade\\AppData\\Local\\Temp\\ipykernel_25716\\1627293600.py:49: RuntimeWarning: invalid value encountered in multiply\n",
      "  i, j = np.unravel_index(np.argmin(distance_matrix + np.eye(n) * np.inf), distance_matrix.shape)\n"
     ]
    },
    {
     "data": {
      "text/plain": [
       "<Figure size 640x480 with 0 Axes>"
      ]
     },
     "metadata": {},
     "output_type": "display_data"
    }
   ],
   "source": [
    "from Bio.Phylo.TreeConstruction import DistanceTreeConstructor, DistanceMatrix\n",
    "from Bio import Phylo\n",
    "import matplotlib.pyplot as plt\n",
    "\n",
    "\n",
    "def hamming_distance(seq1, seq2):\n",
    "    \n",
    "    min_len = min(len(seq1), len(seq2))\n",
    "    return sum(c1 != c2 for c1, c2 in zip(seq1[:min_len], seq2[:min_len]))\n",
    "\n",
    "def hamming_distance_matrix(sequences):\n",
    "   \n",
    "    n = len(sequences)\n",
    "    distance_matrix = np.zeros((n, n), dtype=float)\n",
    "\n",
    "    # Calculate pairwise distances\n",
    "    for i in range(n):\n",
    "        for j in range(i, n):\n",
    "            distance = hamming_distance(sequences[i], sequences[j])\n",
    "            distance_matrix[i][j] = distance\n",
    "            distance_matrix[j][i] = distance  # Symmetric matrix\n",
    "\n",
    "    return distance_matrix\n",
    "\n",
    "arr = hamming_distance_matrix(sample)\n",
    "names = [str(i) for i in range(len(sample))]\n",
    "matrix  = [[arr[i][j] if j < i else 0 for j in range(i + 1)] for i in range(len(arr))]\n",
    "print(len(matrix[-1]))\n",
    "print(len(names))\n",
    "\n",
    "\n",
    "t_0= time()\n",
    "process = psutil.Process(os.getpid())\n",
    "upgma_before_cpu = process.cpu_percent(interval=None)\n",
    "upgma_before_memory = process.memory_info().rss \n",
    "\n",
    "upgma_res = upgma(arr,names)\n",
    "\n",
    "\n",
    "upgma_after_cpu = process.cpu_percent(interval=None)\n",
    "upgma_after_memory = process.memory_info().rss  \n",
    "\n",
    "t_1= time()\n",
    "nj_before_cpu = process.cpu_percent(interval=None)\n",
    "nj_before_memory = process.memory_info().rss \n",
    "\n",
    "nj_res = neighbor_joining(arr,names)\n",
    "\n",
    "nj_after_cpu = process.cpu_percent(interval=None)\n",
    "nj_after_memory = process.memory_info().rss  \n",
    "t_2= time()\n",
    "\n",
    "print(nj_res)\n",
    "# Create a DistanceMatrix\n",
    "dm = DistanceMatrix(names, matrix)\n",
    "\n",
    "# Initialize a tree constructor\n",
    "constructor = DistanceTreeConstructor()\n",
    "# Neighbor-Joining Tree\n",
    "nj_tree = constructor.nj(dm)\n",
    "\n",
    "print(\"\\nNeighbor-Joining Tree:\")\n",
    "Phylo.draw_ascii(nj_tree)\n",
    "# UPGMA Tree\n",
    "upgma_tree = constructor.upgma(dm)\n",
    "print(\"\\nUPGMA Tree:\")\n",
    "Phylo.draw_ascii(upgma_tree)\n",
    "\n",
    "\n",
    "\n",
    "plt.tight_layout()\n",
    "plt.show()\n"
   ]
  },
  {
   "cell_type": "code",
   "execution_count": 46,
   "metadata": {},
   "outputs": [],
   "source": [
    "ng_time = t_2-t_1\n",
    "upgma_time = t_1-t_0\n",
    "upgma_cpu = upgma_after_cpu-upgma_before_cpu\n",
    "nj_cpu= nj_after_cpu-nj_before_cpu\n",
    "upgma_ram = upgma_after_memory-upgma_before_memory\n",
    "nj_ram = nj_after_memory-nj_before_memory\n",
    "geneic_cpu=gen_after_cpu-gen_before_cpu\n",
    "genetic_ram=gen_after_memory-gen_before_memory"
   ]
  },
  {
   "cell_type": "code",
   "execution_count": 48,
   "metadata": {},
   "outputs": [
    {
     "data": {
      "text/html": [
       "<div>\n",
       "<style scoped>\n",
       "    .dataframe tbody tr th:only-of-type {\n",
       "        vertical-align: middle;\n",
       "    }\n",
       "\n",
       "    .dataframe tbody tr th {\n",
       "        vertical-align: top;\n",
       "    }\n",
       "\n",
       "    .dataframe thead th {\n",
       "        text-align: right;\n",
       "    }\n",
       "</style>\n",
       "<table border=\"1\" class=\"dataframe\">\n",
       "  <thead>\n",
       "    <tr style=\"text-align: right;\">\n",
       "      <th></th>\n",
       "      <th>algorithm</th>\n",
       "      <th>time</th>\n",
       "      <th>cpu usage</th>\n",
       "      <th>ram usage(bytes)</th>\n",
       "    </tr>\n",
       "  </thead>\n",
       "  <tbody>\n",
       "    <tr>\n",
       "      <th>0</th>\n",
       "      <td>upgma</td>\n",
       "      <td>0.004000</td>\n",
       "      <td>0.0</td>\n",
       "      <td>0</td>\n",
       "    </tr>\n",
       "    <tr>\n",
       "      <th>1</th>\n",
       "      <td>nj</td>\n",
       "      <td>0.006258</td>\n",
       "      <td>104.2</td>\n",
       "      <td>0</td>\n",
       "    </tr>\n",
       "    <tr>\n",
       "      <th>2</th>\n",
       "      <td>genetic</td>\n",
       "      <td>31.462288</td>\n",
       "      <td>82.4</td>\n",
       "      <td>21045248</td>\n",
       "    </tr>\n",
       "  </tbody>\n",
       "</table>\n",
       "</div>"
      ],
      "text/plain": [
       "  algorithm       time  cpu usage  ram usage(bytes)\n",
       "0     upgma   0.004000        0.0                 0\n",
       "1        nj   0.006258      104.2                 0\n",
       "2   genetic  31.462288       82.4          21045248"
      ]
     },
     "execution_count": 48,
     "metadata": {},
     "output_type": "execute_result"
    }
   ],
   "source": [
    "data = {\"algorithm\":[\"upgma\",\"nj\",\"genetic\"],\"time\":[upgma_time,ng_time,genetic_time],\"cpu usage\":[upgma_cpu,nj_cpu,geneic_cpu],\"ram usage(bytes)\":[upgma_ram,nj_ram,genetic_ram]}\n",
    "df = pd.DataFrame(data)\n",
    "df.head()"
   ]
  },
  {
   "cell_type": "code",
   "execution_count": 50,
   "metadata": {},
   "outputs": [
    {
     "data": {
      "image/png": "[encoded data removed]",
      "text/plain": [
       "<Figure size 1500x500 with 3 Axes>"
      ]
     },
     "metadata": {},
     "output_type": "display_data"
    }
   ],
   "source": [
    "fig, axes = plt.subplots(1, 3, figsize=(15, 5))\n",
    "\n",
    "# Time histogram\n",
    "axes[0].bar(data[\"algorithm\"], data[\"time\"], color='skyblue')\n",
    "axes[0].set_title('Execution Time (seconds)')\n",
    "axes[0].set_xlabel('Algorithm')\n",
    "axes[0].set_ylabel('Time (s)')\n",
    "\n",
    "# CPU Usage histogram\n",
    "axes[1].bar(data[\"algorithm\"], data[\"cpu usage\"], color='lightgreen')\n",
    "axes[1].set_title('CPU Usage (%)')\n",
    "axes[1].set_xlabel('Algorithm')\n",
    "axes[1].set_ylabel('CPU Usage (%)')\n",
    "\n",
    "# RAM Usage histogram\n",
    "axes[2].bar(data[\"algorithm\"], data[\"ram usage(bytes)\"], color='salmon')\n",
    "axes[2].set_title('RAM Usage (bytes)')\n",
    "axes[2].set_xlabel('Algorithm')\n",
    "axes[2].set_ylabel('RAM Usage (bytes)')\n",
    "\n",
    "# Adjust layout for better spacing\n",
    "plt.tight_layout()\n",
    "plt.show()"
   ]
  },
  {
   "cell_type": "code",
   "execution_count": 44,
   "metadata": {},
   "outputs": [
    {
     "data": {
      "text/plain": [
       "'ACAAATDCDD'"
      ]
     },
     "execution_count": 44,
     "metadata": {},
     "output_type": "execute_result"
    }
   ],
   "source": [
    "choices = np.random.choice(['A','G',\"T\",\"C\",\"-\"],size=5)\n",
    "mutatiion = \"\".join(choices)\n",
    "protein = \"ABBBBBDCDD\"\n",
    "protein = protein[:1]+mutatiion+protein[1+5:]\n",
    "protein"
   ]
  },
  {
   "cell_type": "code",
   "execution_count": 45,
   "metadata": {},
   "outputs": [
    {
     "name": "stdout",
     "output_type": "stream",
     "text": [
      "mutation\n"
     ]
    }
   ],
   "source": [
    "import random \n",
    "import scipy.stats as st \n",
    "import numpy as np\n",
    "\n",
    "event = [\"mutation\",\"no mutation\"]\n",
    "\n",
    "ev = np.random.choice(event,p=[0.1,0.9])\n",
    "\n",
    "print(ev)"
   ]
  }
 ],
 "metadata": {
  "kernelspec": {
   "display_name": "Python 3",
   "language": "python",
   "name": "python3"
  },
  "language_info": {
   "codemirror_mode": {
    "name": "ipython",
    "version": 3
   },
   "file_extension": ".py",
   "mimetype": "text/x-python",
   "name": "python",
   "nbconvert_exporter": "python",
   "pygments_lexer": "ipython3",
   "version": "3.11.4"
  }
 },
 "nbformat": 4,
 "nbformat_minor": 2
}
